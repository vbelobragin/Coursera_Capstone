{
    "nbformat_minor": 1, 
    "cells": [
        {
            "source": "<a href=\"https://www.bigdatauniversity.com\"><img src=\"https://ibm.box.com/shared/static/cw2c7r3o20w9zn8gkecaeyjhgw3xdgbj.png\" width=\"400\" align=\"center\"></a>", 
            "cell_type": "markdown", 
            "metadata": {
                "collapsed": true
            }
        }, 
        {
            "source": "<h1 align=center><font size=\"5\"> Capstone project notebook: IBM Data Science course </font></h1>", 
            "cell_type": "markdown", 
            "metadata": {}
        }, 
        {
            "source": "In this notebook some homework assignments and coding is presented to complete the MOOC course, prepared by great IBM staff. Many personal thanks to everyone of the instructors:\n- Mr. Alex Aklson,\n- Mr. Polong Lin,\n- Mr Joseph Santarcangelo,\n- Mr. Rav Ahuja,\n- Mr. Saeed Aghabozorgi,\n\nand all other IBM staff.", 
            "cell_type": "markdown", 
            "metadata": {}
        }, 
        {
            "source": "### __This notebook is prepared by Vladimir Belobragin.__\nPlease, [follow the last version of the notebook](https://github.com/vbelobragin/Coursera_Capstone.git) in Github repository at:\nhttps://github.com/vbelobragin/Coursera_Capstone.git ", 
            "cell_type": "markdown", 
            "metadata": {}
        }, 
        {
            "source": "<h3 align=left><font size=\"3\"> 1. Create notebook and place it in Github repository. Paste initial code. </font></h3>", 
            "cell_type": "markdown", 
            "metadata": {}
        }, 
        {
            "execution_count": 2, 
            "cell_type": "code", 
            "metadata": {}, 
            "outputs": [], 
            "source": "import pandas as pd\nimport numpy as np"
        }, 
        {
            "execution_count": 3, 
            "cell_type": "code", 
            "metadata": {}, 
            "outputs": [
                {
                    "output_type": "stream", 
                    "name": "stdout", 
                    "text": "Hello Capstone Project Course!\n"
                }
            ], 
            "source": "print(\"Hello Capstone Project Course!\")"
        }, 
        {
            "execution_count": null, 
            "cell_type": "code", 
            "metadata": {}, 
            "outputs": [], 
            "source": "DisableHTML5Autoplay_Initialize"
        }
    ], 
    "metadata": {
        "kernelspec": {
            "display_name": "Python 3.5", 
            "name": "python3", 
            "language": "python"
        }, 
        "language_info": {
            "mimetype": "text/x-python", 
            "nbconvert_exporter": "python", 
            "version": "3.5.5", 
            "name": "python", 
            "file_extension": ".py", 
            "pygments_lexer": "ipython3", 
            "codemirror_mode": {
                "version": 3, 
                "name": "ipython"
            }
        }
    }, 
    "nbformat": 4
}